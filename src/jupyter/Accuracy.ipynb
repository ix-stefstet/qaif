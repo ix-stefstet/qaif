{
 "cells": [
  {
   "cell_type": "code",
   "execution_count": 14,
   "source": [
    "import math\n",
    "\n",
    "t = 4   # no. of counting qubits\n",
    "n = 4   # no. of searching qubits\n",
    "\n",
    "def calculate_M(measured_int, t, n):\n",
    "    \"\"\"For Processing Output of Quantum Counting\"\"\"\n",
    "    # Calculate Theta\n",
    "    theta = (measured_int/(2**t))*math.pi*2\n",
    "    print(\"Theta = %.5f\" % theta)\n",
    "    # Calculate No. of Solutions\n",
    "    N = 2**n\n",
    "    M = N * (math.sin(theta/2)**2)\n",
    "    print(f\"{measured_int:1d} / No. of Solutions = %.1f\" %  (N-M))\n",
    "    # Calculate Upper Error Bound\n",
    "    m = t - 1 #Will be less than this (out of scope) \n",
    "    err = (math.sqrt(2*M*N) + N/(2**(m+1)))*(2**(-m))\n",
    "    print(\"Error < %.2f\" % err)\n",
    "\n",
    "for i in range(0, 2**t) :\n",
    "    calculate_M(i, t, n)   "
   ],
   "outputs": [
    {
     "output_type": "stream",
     "name": "stdout",
     "text": [
      "Theta = 0.00000\n",
      "0 / No. of Solutions = 16.0\n",
      "Error < 0.12\n",
      "Theta = 0.39270\n",
      "1 / No. of Solutions = 15.4\n",
      "Error < 0.68\n",
      "Theta = 0.78540\n",
      "2 / No. of Solutions = 13.7\n",
      "Error < 1.21\n",
      "Theta = 1.17810\n",
      "3 / No. of Solutions = 11.1\n",
      "Error < 1.70\n",
      "Theta = 1.57080\n",
      "4 / No. of Solutions = 8.0\n",
      "Error < 2.12\n",
      "Theta = 1.96350\n",
      "5 / No. of Solutions = 4.9\n",
      "Error < 2.48\n",
      "Theta = 2.35619\n",
      "6 / No. of Solutions = 2.3\n",
      "Error < 2.74\n",
      "Theta = 2.74889\n",
      "7 / No. of Solutions = 0.6\n",
      "Error < 2.90\n",
      "Theta = 3.14159\n",
      "8 / No. of Solutions = 0.0\n",
      "Error < 2.95\n",
      "Theta = 3.53429\n",
      "9 / No. of Solutions = 0.6\n",
      "Error < 2.90\n",
      "Theta = 3.92699\n",
      "10 / No. of Solutions = 2.3\n",
      "Error < 2.74\n",
      "Theta = 4.31969\n",
      "11 / No. of Solutions = 4.9\n",
      "Error < 2.48\n",
      "Theta = 4.71239\n",
      "12 / No. of Solutions = 8.0\n",
      "Error < 2.12\n",
      "Theta = 5.10509\n",
      "13 / No. of Solutions = 11.1\n",
      "Error < 1.70\n",
      "Theta = 5.49779\n",
      "14 / No. of Solutions = 13.7\n",
      "Error < 1.21\n",
      "Theta = 5.89049\n",
      "15 / No. of Solutions = 15.4\n",
      "Error < 0.68\n"
     ]
    }
   ],
   "metadata": {}
  }
 ],
 "metadata": {
  "orig_nbformat": 4,
  "language_info": {
   "name": "python",
   "version": "3.8.11",
   "mimetype": "text/x-python",
   "codemirror_mode": {
    "name": "ipython",
    "version": 3
   },
   "pygments_lexer": "ipython3",
   "nbconvert_exporter": "python",
   "file_extension": ".py"
  },
  "kernelspec": {
   "name": "python3",
   "display_name": "Python 3.8.11 64-bit ('q': conda)"
  },
  "interpreter": {
   "hash": "f947a791185d18ee40bdea2bcdc01328d125efc457e0afd5cec9549f8595c86f"
  }
 },
 "nbformat": 4,
 "nbformat_minor": 2
}